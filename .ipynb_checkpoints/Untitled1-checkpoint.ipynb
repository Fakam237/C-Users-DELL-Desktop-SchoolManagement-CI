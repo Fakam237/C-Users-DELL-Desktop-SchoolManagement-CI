{
 "cells": [
  {
   "cell_type": "code",
   "execution_count": null,
   "id": "cee5d236-484c-4e95-b56a-b5c4e33a1155",
   "metadata": {},
   "outputs": [],
   "source": []
  },
  {
   "cell_type": "code",
   "execution_count": null,
   "id": "35594b7d-e32a-46cd-b0a2-a3f50faa8322",
   "metadata": {},
   "outputs": [],
   "source": []
  }
 ],
 "metadata": {
  "kernelspec": {
   "display_name": "",
   "name": ""
  },
  "language_info": {
   "name": ""
  }
 },
 "nbformat": 4,
 "nbformat_minor": 5
}
